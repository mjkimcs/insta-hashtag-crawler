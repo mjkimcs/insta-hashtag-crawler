{
  "nbformat": 4,
  "nbformat_minor": 0,
  "metadata": {
    "colab": {
      "name": "경영자를 위한 딥러닝 중간시험의 사본",
      "private_outputs": true,
      "provenance": [],
      "collapsed_sections": [],
      "toc_visible": true,
      "include_colab_link": true
    },
    "language_info": {
      "codemirror_mode": {
        "name": "ipython",
        "version": 3
      },
      "file_extension": ".py",
      "mimetype": "text/x-python",
      "name": "python",
      "nbconvert_exporter": "python",
      "pygments_lexer": "ipython3",
      "version": "3.6.7"
    },
    "kernelspec": {
      "name": "python3",
      "display_name": "Python 3"
    },
    "accelerator": "GPU"
  },
  "cells": [
    {
      "cell_type": "markdown",
      "metadata": {
        "id": "view-in-github",
        "colab_type": "text"
      },
      "source": [
        "<a href=\"https://colab.research.google.com/github/mjkimcs/insta-hashtag-crawler/blob/master/%EA%B2%BD%EC%98%81%EC%9E%90%EB%A5%BC_%EC%9C%84%ED%95%9C_%EB%94%A5%EB%9F%AC%EB%8B%9D_%EC%A4%91%EA%B0%84%EC%8B%9C%ED%97%98%EC%9D%98_%EC%82%AC%EB%B3%B8.ipynb\" target=\"_parent\"><img src=\"https://colab.research.google.com/assets/colab-badge.svg\" alt=\"Open In Colab\"/></a>"
      ]
    },
    {
      "cell_type": "markdown",
      "metadata": {
        "id": "B6478HgOkmTA"
      },
      "source": [
        "##### Copyright 2021, John J. H. OH\n",
        "\n",
        "Licensed under the Apache License, Version 2.0 (the \"License\");"
      ]
    },
    {
      "cell_type": "markdown",
      "metadata": {
        "id": "3wF5wszaj97Y"
      },
      "source": [
        "# 경영자를 위한 딥러닝 중간시험"
      ]
    },
    {
      "cell_type": "markdown",
      "metadata": {
        "id": "jv1pnuPl36OI"
      },
      "source": [
        "# 손글씨 숫자 읽기\n",
        "\n",
        "첫 과제로 딥러닝, 혹은 신경망학습이라고 하는 방법을 써서 사람이 손으로 쓴 숫자를 읽어내는 인공지능 프로그램을 만들어 보겠습니다. 다음 이미지들과 같이 사람이 손으로 쓴 글자를 읽을 수 있는 프로그램을 만드는거죠. 우리가 사용할 MNIST라는 데이터는 사진처럼 사람이 손으로 쓴 숫자를 스캔한 이미지를 많이 모아놓은 것입니다.\n",
        "\n",
        "<img src=\"https://miro.medium.com/max/530/1*VAjYygFUinnygIx9eVCrQQ.png\">"
      ]
    },
    {
      "cell_type": "code",
      "metadata": {
        "id": "ZsoVNRa7klUV"
      },
      "source": [
        "# Colab only\n",
        "%tensorflow_version 2.x"
      ],
      "execution_count": null,
      "outputs": []
    },
    {
      "cell_type": "markdown",
      "metadata": {
        "id": "FZR5u3Qi9D0O"
      },
      "source": [
        "tensorflow와 tf.keras를 임포트합니다"
      ]
    },
    {
      "cell_type": "code",
      "metadata": {
        "id": "dzLKpmZICaWN"
      },
      "source": [
        "from __future__ import absolute_import, division, print_function, unicode_literals\n",
        "\n",
        "import tensorflow as tf\n",
        "from tensorflow import keras\n",
        "\n",
        "print(tf.__version__)\n",
        "print(keras.__version__)\n"
      ],
      "execution_count": null,
      "outputs": []
    },
    {
      "cell_type": "markdown",
      "metadata": {
        "id": "7NAbSZiaoJ4z"
      },
      "source": [
        "[MNIST 데이터셋](http://yann.lecun.com/exdb/mnist/)을 로드하여 준비합니다. 샘플 값을 정수에서 부동소수로 변환합니다:"
      ]
    },
    {
      "cell_type": "markdown",
      "metadata": {
        "id": "Brm0b_KACaWX"
      },
      "source": [
        "# 데이터 준비하기\n",
        "\n",
        "MNIST 데이터셋을 읽어옵니다. "
      ]
    },
    {
      "cell_type": "code",
      "metadata": {
        "id": "7FP5258xjs-v"
      },
      "source": [
        "mnist = tf.keras.datasets.mnist\n",
        "\n",
        "(x_train, y_train), (x_test, y_test) = mnist.load_data()"
      ],
      "execution_count": null,
      "outputs": []
    },
    {
      "cell_type": "code",
      "metadata": {
        "id": "uJdBL4PFG_9I"
      },
      "source": [
        "x_train, x_test = x_train / 255.0, x_test / 255.0"
      ],
      "execution_count": null,
      "outputs": []
    },
    {
      "cell_type": "markdown",
      "metadata": {
        "id": "kOYZrIMiI--j"
      },
      "source": [
        "#신경망 만들기\n",
        "\n",
        "이제 이 훈련용 데이터를 이용해서 숫자를 읽을 수 있도록 신경망을 만들고 학습시켜보겠습니다. 어떤 신경망을 쓸 것인가 하는 것은 keras 라이브러리의 모델 중에 sequential 이라는 모델을 사용하겠습니다. 자세한 것은 앞으로 상세 강의에서 알려드리겠습니다만 대략의 모습은 이렇게 생겼습니다.\n",
        "\n",
        "<img src=\"https://3.bp.blogspot.com/-mDyzBzA4btg/V4_Z0f2mc7I/AAAAAAAAE3M/dtU8hT661fQWtnRC_JvIH_4qifQomZ4PACLcB/s1600/MNIST_neuralnet_image.png\">"
      ]
    },
    {
      "cell_type": "markdown",
      "metadata": {
        "id": "hdyR5gfyR62o"
      },
      "source": [
        "Keras의 model 함수(기능)을 이용해서 신경망을 만들어 줍니다."
      ]
    },
    {
      "cell_type": "code",
      "metadata": {
        "id": "h3IKyzTCDNGo"
      },
      "source": [
        "model = tf.keras.models.Sequential([\n",
        "  tf.keras.layers.Flatten(input_shape=(28, 28)),\n",
        "  tf.keras.layers.Dense(?, activation='?'),\n",
        "  tf.keras.layers.Dropout(?),\n",
        "  tf.keras.layers.Dense(10, activation='?')\n",
        "])\n",
        "\n",
        "model.compile(optimizer='?',\n",
        "              loss='?',\n",
        "              metrics=['?'])"
      ],
      "execution_count": null,
      "outputs": []
    },
    {
      "cell_type": "markdown",
      "metadata": {
        "id": "71kE8O0pKFzu"
      },
      "source": [
        "#신경망 학습시키기\n",
        "이제 신경망이 정의되었으니 학습시켜 봅시다."
      ]
    },
    {
      "cell_type": "code",
      "metadata": {
        "id": "F7dTAzgHDUh7"
      },
      "source": [
        "model.fit(x_train, y_train, epochs=?)"
      ],
      "execution_count": null,
      "outputs": []
    },
    {
      "cell_type": "markdown",
      "metadata": {
        "id": "ZoL5JCYQAqEi"
      },
      "source": [
        "학습이 끝났습니다. 새로운 이미지를 읽을 수 있는지 테스트해 봅니다."
      ]
    },
    {
      "cell_type": "code",
      "metadata": {
        "id": "40Her9ROTumq"
      },
      "source": [
        "predictions = model.predict(x_test)"
      ],
      "execution_count": null,
      "outputs": []
    },
    {
      "cell_type": "code",
      "metadata": {
        "id": "vwalPLKk___c"
      },
      "source": [
        "plt.imshow(x_test[0], cmap=plt.cm.binary)\n",
        "plt.show()"
      ],
      "execution_count": null,
      "outputs": []
    },
    {
      "cell_type": "code",
      "metadata": {
        "id": "TgEV16v4AhVb"
      },
      "source": [
        "print (predictions[0])"
      ],
      "execution_count": null,
      "outputs": []
    },
    {
      "cell_type": "markdown",
      "metadata": {
        "id": "1FmnB7p7HkA0"
      },
      "source": [
        "이중 값이 가장 큰 것이 신경망이 낸 답이죠"
      ]
    },
    {
      "cell_type": "code",
      "metadata": {
        "id": "0IZlBtbaIAo-"
      },
      "source": [
        "import numpy as np\n",
        "print(np.argmax(predictions[0]))"
      ],
      "execution_count": null,
      "outputs": []
    },
    {
      "cell_type": "markdown",
      "metadata": {
        "id": "LDTRtLUquKc8"
      },
      "source": [
        "이것은 확률을 나타내는 값들입니다. 이 중 확률이 높다고 예측된 값을 출력해 본 것입니다. 전체 테스트 데이터에 대해 얼마나 잘 학습되었는지 측정해 봅니다."
      ]
    },
    {
      "cell_type": "code",
      "metadata": {
        "id": "Fi3Igs3uB6c9"
      },
      "source": [
        "model.evaluate(x_test, y_test)"
      ],
      "execution_count": null,
      "outputs": []
    }
  ]
}